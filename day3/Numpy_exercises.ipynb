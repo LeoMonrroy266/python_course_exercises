{
 "cells": [
  {
   "cell_type": "code",
   "execution_count": 1,
   "id": "989e095e-72d3-4b33-ad36-28d3a29dfcde",
   "metadata": {},
   "outputs": [],
   "source": [
    "import numpy as np"
   ]
  },
  {
   "cell_type": "markdown",
   "id": "77a5aeb9-1b0a-4669-96d4-664950fb7f78",
   "metadata": {},
   "source": [
    "#### a)"
   ]
  },
  {
   "cell_type": "code",
   "execution_count": 3,
   "id": "0519ef93-d680-4a57-98f7-d72dd982120e",
   "metadata": {},
   "outputs": [
    {
     "name": "stdout",
     "output_type": "stream",
     "text": [
      "[0. 0. 0. 0. 1. 0. 0. 0. 0. 0.]\n"
     ]
    }
   ],
   "source": [
    "null = np.zeros((10))\n",
    "null[4] = 1\n",
    "print(null)"
   ]
  },
  {
   "cell_type": "markdown",
   "id": "2dfbc8f4-bd5f-4fa5-b048-726e01ef5d39",
   "metadata": {},
   "source": [
    "#### b) + c)"
   ]
  },
  {
   "cell_type": "code",
   "execution_count": 29,
   "id": "a5b48ce7-20ed-4f92-b999-b4043214feb2",
   "metadata": {},
   "outputs": [
    {
     "name": "stdout",
     "output_type": "stream",
     "text": [
      "[10 11 12 13 14 15 16 17 18 19 20 21 22 23 24 25 26 27 28 29 30 31 32 33\n",
      " 34 35 36 37 38 39 40 41 42 43 44 45 46 47 48 49]\n",
      "[49 48 47 46 45 44 43 42 41 40 39 38 37 36 35 34 33 32 31 30 29 28 27 26\n",
      " 25 24 23 22 21 20 19 18 17 16 15 14 13 12 11 10]\n"
     ]
    }
   ],
   "source": [
    "v = np.arange(10,50)\n",
    "v_reverse = v[::-1]\n",
    "print(v)\n",
    "print(v_reverse)"
   ]
  },
  {
   "cell_type": "markdown",
   "id": "d2b7da0e-97f3-4551-a678-0a57def8604a",
   "metadata": {},
   "source": [
    "#### d)"
   ]
  },
  {
   "cell_type": "code",
   "execution_count": 18,
   "id": "004653a0-66d7-4571-8d9e-647d5058815e",
   "metadata": {},
   "outputs": [
    {
     "data": {
      "text/plain": [
       "array([[3, 6, 1],\n",
       "       [7, 0, 5],\n",
       "       [3, 5, 5]])"
      ]
     },
     "execution_count": 18,
     "metadata": {},
     "output_type": "execute_result"
    }
   ],
   "source": [
    "np.random.randint(0,8,(3,3))"
   ]
  },
  {
   "cell_type": "markdown",
   "id": "7aab5169-4831-4fd3-af2e-2261b6e62b99",
   "metadata": {},
   "source": [
    "#### f)"
   ]
  },
  {
   "cell_type": "code",
   "execution_count": 35,
   "id": "06a50e58-5731-45a8-8ba0-1d8f7372cf3d",
   "metadata": {},
   "outputs": [
    {
     "name": "stdout",
     "output_type": "stream",
     "text": [
      "3.533333333333333\n"
     ]
    }
   ],
   "source": [
    "v = np.random.randint(0,8,(30))\n",
    "v_mean = np.mean(v)\n",
    "print(v_mean)"
   ]
  },
  {
   "cell_type": "markdown",
   "id": "502e0094-a4b1-4aaa-be78-e0df1bb77419",
   "metadata": {},
   "source": [
    "#### g)"
   ]
  },
  {
   "cell_type": "code",
   "execution_count": 61,
   "id": "205623b0-4bc2-4ca7-b918-0e3913efc496",
   "metadata": {},
   "outputs": [
    {
     "name": "stdout",
     "output_type": "stream",
     "text": [
      "[[1. 1. 1. 1. 1. 1. 1. 1. 1. 1.]\n",
      " [1. 0. 0. 0. 0. 0. 0. 0. 0. 1.]\n",
      " [1. 0. 0. 0. 0. 0. 0. 0. 0. 1.]\n",
      " [1. 0. 0. 0. 0. 0. 0. 0. 0. 1.]\n",
      " [1. 1. 1. 1. 1. 1. 1. 1. 1. 1.]]\n"
     ]
    }
   ],
   "source": [
    "def fill_border(vector):\n",
    "    \"\"\"\n",
    "    Fills the edge of 2D array with 1\n",
    "    \"\"\"\n",
    "    n,m = vector.shape\n",
    "    vector[0,:] = 1\n",
    "    vector[n-1,:] = 1\n",
    "    vector[:,m-1] = 1\n",
    "    vector[:,0] = 1\n",
    "    \n",
    "n = 5\n",
    "m = 10\n",
    "v = np.zeros((n,m))\n",
    "fill_border(v)\n",
    "print(v)"
   ]
  },
  {
   "cell_type": "markdown",
   "id": "7895d7a2-1da0-45f8-b727-67165589c6b1",
   "metadata": {},
   "source": [
    "#### h) + i)"
   ]
  },
  {
   "cell_type": "code",
   "execution_count": 120,
   "id": "fd2442dd-5d80-498b-b430-d5b7aebcfe6d",
   "metadata": {},
   "outputs": [
    {
     "name": "stdout",
     "output_type": "stream",
     "text": [
      "[[0 1 0 1 0 1 0 1]\n",
      " [1 0 1 0 1 0 1 0]\n",
      " [0 1 0 1 0 1 0 1]\n",
      " [1 0 1 0 1 0 1 0]\n",
      " [0 1 0 1 0 1 0 1]\n",
      " [1 0 1 0 1 0 1 0]\n",
      " [0 1 0 1 0 1 0 1]\n",
      " [1 0 1 0 1 0 1 0]]\n",
      "\n",
      "[[0 1 0 1 0 1 0 1]\n",
      " [1 0 1 0 1 0 1 0]\n",
      " [0 1 0 1 0 1 0 1]\n",
      " [1 0 1 0 1 0 1 0]\n",
      " [0 1 0 1 0 1 0 1]\n",
      " [1 0 1 0 1 0 1 0]\n",
      " [0 1 0 1 0 1 0 1]\n",
      " [1 0 1 0 1 0 1 0]]\n"
     ]
    }
   ],
   "source": [
    "v1 = np.zeros((8,8),dtype=int)\n",
    "v1[:,1::2][::2] = 1\n",
    "v1[:,0::2][1::2] = 1\n",
    "\n",
    "pattern = np.array([[0,1],[1,0]])\n",
    "v2 = np.tile(pattern,(4,4))\n",
    "\n",
    "print(v1)\n",
    "print('')\n",
    "print(v2)\n"
   ]
  },
  {
   "cell_type": "markdown",
   "id": "2ae517aa-58f1-4bda-9e53-41ee34085e8a",
   "metadata": {},
   "source": [
    "#### j)"
   ]
  },
  {
   "cell_type": "code",
   "execution_count": 123,
   "id": "26447503-5555-42f9-b7cd-c7d8ba2c3625",
   "metadata": {},
   "outputs": [
    {
     "name": "stdout",
     "output_type": "stream",
     "text": [
      "[ 0  1  2 -3 -4 -5 -6 -7 -8  9 10]\n"
     ]
    }
   ],
   "source": [
    "z = np.arange(11)\n",
    "z[3:9] *= -1\n",
    "print(z)"
   ]
  },
  {
   "cell_type": "markdown",
   "id": "e94ac1fe-e481-4cdd-a9d8-2d7b8e59fb88",
   "metadata": {},
   "source": [
    "#### k)"
   ]
  },
  {
   "cell_type": "code",
   "execution_count": 126,
   "id": "4194f95d-e6ce-4281-8f08-898c71660ef4",
   "metadata": {},
   "outputs": [
    {
     "data": {
      "text/plain": [
       "array([0.13311761, 0.16368118, 0.17746719, 0.29251766, 0.62048753,\n",
       "       0.726069  , 0.73629828, 0.87027105, 0.92878628, 0.99980469])"
      ]
     },
     "execution_count": 126,
     "metadata": {},
     "output_type": "execute_result"
    }
   ],
   "source": [
    "z = np.random.random(10)\n",
    "np.sort(z)\n"
   ]
  },
  {
   "cell_type": "markdown",
   "id": "48ba98df-150c-4679-bd1e-4295764791c2",
   "metadata": {},
   "source": [
    "#### l)"
   ]
  },
  {
   "cell_type": "code",
   "execution_count": 128,
   "id": "456b6018-46e4-4f16-9955-e75bc42c3763",
   "metadata": {},
   "outputs": [
    {
     "name": "stdout",
     "output_type": "stream",
     "text": [
      "False\n"
     ]
    }
   ],
   "source": [
    "A = np.random.randint(0,2,5)\n",
    "B = np.random.randint(0,2,5)\n",
    "equal = np.array_equal(A,B)\n",
    "print(equal)"
   ]
  },
  {
   "cell_type": "markdown",
   "id": "0de9a199-ab39-42f0-b4b5-86ebec0e0b84",
   "metadata": {},
   "source": [
    "#### m)"
   ]
  },
  {
   "cell_type": "code",
   "execution_count": 137,
   "id": "208171ce-de35-46bd-9d67-534c692ee51b",
   "metadata": {},
   "outputs": [
    {
     "name": "stdout",
     "output_type": "stream",
     "text": [
      "int32\n",
      "float32\n"
     ]
    }
   ],
   "source": [
    "Z = np.arange(10, dtype=np.int32)\n",
    "print(Z.dtype)\n",
    "Z = Z.view(dtype='float32')\n",
    "print(Z.dtype)"
   ]
  },
  {
   "cell_type": "markdown",
   "id": "43a2b712-0f2d-4464-b78c-8af45a16088b",
   "metadata": {},
   "source": [
    "#### n)"
   ]
  },
  {
   "cell_type": "code",
   "execution_count": 197,
   "id": "83034192-b3f0-4387-9876-15bdb470b9ec",
   "metadata": {},
   "outputs": [
    {
     "name": "stdout",
     "output_type": "stream",
     "text": [
      "[[ 18  21  24]\n",
      " [ 54  66  78]\n",
      " [ 90 111 132]]\n",
      "\n",
      "[[ 18  24]\n",
      " [ 54  78]\n",
      " [ 90 132]]\n"
     ]
    }
   ],
   "source": [
    "A = np.arange(9).reshape(3,3)\n",
    "B = A + 1\n",
    "C = np.dot(A,B)\n",
    "print(C)\n",
    "print('')\n",
    "D = C[:,0::2]\n",
    "print(D)"
   ]
  },
  {
   "cell_type": "code",
   "execution_count": null,
   "id": "12c2bb49-ec69-4a22-b43e-7bd22c71359c",
   "metadata": {},
   "outputs": [],
   "source": []
  }
 ],
 "metadata": {
  "kernelspec": {
   "display_name": "Python 3 (ipykernel)",
   "language": "python",
   "name": "python3"
  },
  "language_info": {
   "codemirror_mode": {
    "name": "ipython",
    "version": 3
   },
   "file_extension": ".py",
   "mimetype": "text/x-python",
   "name": "python",
   "nbconvert_exporter": "python",
   "pygments_lexer": "ipython3",
   "version": "3.9.7"
  }
 },
 "nbformat": 4,
 "nbformat_minor": 5
}
