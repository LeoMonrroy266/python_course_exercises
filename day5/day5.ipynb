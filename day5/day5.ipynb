{
 "cells": [
  {
   "cell_type": "code",
   "execution_count": 12,
   "id": "37a79556-d10d-445f-a63b-d9ebe39413f3",
   "metadata": {},
   "outputs": [],
   "source": [
    "from scipy import linalg\n",
    "from scipy import stats\n",
    "import numpy as np\n",
    "import pandas as pd"
   ]
  },
  {
   "cell_type": "markdown",
   "id": "e2d6126a-0e57-4746-af11-755265644536",
   "metadata": {},
   "source": [
    "### a), b), c)"
   ]
  },
  {
   "cell_type": "code",
   "execution_count": 66,
   "id": "d6313245-8a68-4ed3-8713-6ccb5ad97124",
   "metadata": {},
   "outputs": [
    {
     "name": "stdout",
     "output_type": "stream",
     "text": [
      "[ 1.78869265e-16 -1.35693925e-16  3.33333333e-01]\n"
     ]
    }
   ],
   "source": [
    "A = np.matrix([[1,1,3],[4,5,6],[7,8,9]])\n",
    "b = np.array([1,2,3])\n",
    "solution = linalg.solve(A,b)\n",
    "print(solution)"
   ]
  },
  {
   "cell_type": "markdown",
   "id": "91874245-d41a-45b9-83a4-5281dd7eeafc",
   "metadata": {},
   "source": [
    "### d)"
   ]
  },
  {
   "cell_type": "code",
   "execution_count": 67,
   "id": "98ae1cdd-8705-46a8-b4d3-98ff3acc7bb4",
   "metadata": {},
   "outputs": [
    {
     "data": {
      "text/plain": [
       "matrix([[ True,  True,  True]])"
      ]
     },
     "execution_count": 67,
     "metadata": {},
     "output_type": "execute_result"
    }
   ],
   "source": [
    "A.dot(solution) == b"
   ]
  },
  {
   "cell_type": "markdown",
   "id": "31b9a571-f271-4136-bcdf-ab8ae90f53a3",
   "metadata": {},
   "source": [
    "### e), f)"
   ]
  },
  {
   "cell_type": "code",
   "execution_count": 68,
   "id": "56d8ceb2-61b9-42a2-abfc-95752a8f9bea",
   "metadata": {},
   "outputs": [
    {
     "name": "stdout",
     "output_type": "stream",
     "text": [
      "Eigen vector: [[-0.20197582 -0.79613157  0.71023933]\n",
      " [-0.52960804 -0.06843759 -0.70020814]\n",
      " [-0.82384531  0.60124107  0.07258549]]\n",
      "Eigen values: [15.85892722+0.j -1.17964678+0.j  0.32071957+0.j]\n"
     ]
    }
   ],
   "source": [
    "eig_val, eig_vec = linalg.eig(A)\n",
    "\n",
    "print('Eigen vector:',eig_vec)\n",
    "print('Eigen values:',eig_val)\n"
   ]
  },
  {
   "cell_type": "markdown",
   "id": "07218e34-be7d-4445-aa3b-4fbcd737b804",
   "metadata": {},
   "source": [
    "### g)"
   ]
  },
  {
   "cell_type": "code",
   "execution_count": 69,
   "id": "8306d797-8ef6-4020-ae2a-93c4472e7d51",
   "metadata": {},
   "outputs": [
    {
     "name": "stdout",
     "output_type": "stream",
     "text": [
      "[[ 0.5        -2.5         1.5       ]\n",
      " [-1.          2.         -1.        ]\n",
      " [ 0.5         0.16666667 -0.16666667]]\n"
     ]
    }
   ],
   "source": [
    "inv_A = linalg.inv(A)\n",
    "det_A = linalg.det(inv_A)\n",
    "print(inv_A)"
   ]
  },
  {
   "cell_type": "markdown",
   "id": "06aff8f4-3b54-4fa4-8d87-935f073f925b",
   "metadata": {},
   "source": [
    "### h)"
   ]
  },
  {
   "cell_type": "code",
   "execution_count": 80,
   "id": "33fe3461-b5f1-4fa2-bf8f-c781541c5be3",
   "metadata": {},
   "outputs": [
    {
     "name": "stdout",
     "output_type": "stream",
     "text": [
      "16.792855623746664\n",
      "24.0\n",
      "18.36360126162635\n"
     ]
    }
   ],
   "source": [
    "norm = linalg.norm(A)\n",
    "print(norm)\n",
    "norm = linalg.norm(A,ord=np.inf)\n",
    "print(norm)\n",
    "norm = linalg.norm(A,ord='nuc')\n",
    "print(norm)"
   ]
  },
  {
   "cell_type": "markdown",
   "id": "b926aeab-bd8e-4a67-92a7-1b9ae6fde33a",
   "metadata": {},
   "source": [
    "### a)"
   ]
  },
  {
   "cell_type": "code",
   "execution_count": null,
   "id": "9b036001-61fe-456f-8b4c-76e7211edb6f",
   "metadata": {},
   "outputs": [],
   "source": []
  }
 ],
 "metadata": {
  "kernelspec": {
   "display_name": "Python 3 (ipykernel)",
   "language": "python",
   "name": "python3"
  },
  "language_info": {
   "codemirror_mode": {
    "name": "ipython",
    "version": 3
   },
   "file_extension": ".py",
   "mimetype": "text/x-python",
   "name": "python",
   "nbconvert_exporter": "python",
   "pygments_lexer": "ipython3",
   "version": "3.9.7"
  }
 },
 "nbformat": 4,
 "nbformat_minor": 5
}
